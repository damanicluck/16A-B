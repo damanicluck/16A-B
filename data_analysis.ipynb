{
 "cells": [
  {
   "cell_type": "markdown",
   "id": "0a751c4d",
   "metadata": {},
   "source": [
    "# Least Squares, PCA, SVD, Linearization Walkthrough\n",
    "\n",
    "### CSM EECS 16A/16B: Designing Information Devices and Systems I/II, Fall 2023\n",
    "\n",
    "As a note, this iPython notebook is completely optional for now... This is kind of a 16A and 16B crossover. In this iPython notebook, we'll be going over least squares, PCA (principal component analysis), SVD (singular value decomposition), and linearization. These methods are useful in data analysis and prediction! PCA and SVD will be shown after least squares, so if you're taking 16A right now, it's (probably) not in scope for you to know the rest of the topics. However, it is a good warmup or source of info for now if you plan on taking 16B as well.\n",
    "\n",
    "<!---\n",
    "\n",
    "This is a test run written by Damanic Luck, Fall 2023. If you're clicking on this comment, congrats! idk what people will do with this, but hopefully its helpful. feel free to email me at damanicluck@berkeley.edu if you see this comment! :D. yk ngl i was a sophmore when i wrote this so like if it seems limited in anyway thats probably why i was like taking 70/61c and i was just deciding what upper divs to take\n",
    "\n",
    "_______oBBBBB8o______oBBBBBBB \n",
    "_____o8BBBBBBBBBBB__BBBBBBBBB8________o88o, \n",
    "___o8BBBBBB**8BBBB__BBBBBBBBBB_____oBBBBBBBo, \n",
    "__oBBBBBBB*___***___BBBBBBBBBB_____BBBBBBBBBBo, \n",
    "_8BBBBBBBBBBooooo___*BBBBBBB8______*BB*_8BBBBBBo, \n",
    "_8BBBBBBBBBBBBBBBB8ooBBBBBBB8___________8BBBBBBB8, \n",
    "__*BBBBBBBBBBBBBBBBBBBBBBBBBB8_o88BB88BBBBBBBBBBBB, \n",
    "____*BBBBBBBBBBBBBBBBBBBBBBBBBBBBBBBBBBBBBBBBBBBB8, \n",
    "______**8BBBBBBBBBBBBBBBBBBBBBBBBBBBBBBBBBBBBBBB*, \n",
    "___________*BBBBBBBBBBBBBBBBBBBBBBBBBBBBBBBBB8*, \n",
    "____________*BBBBBBBBBBBBBBBBBBBBBBBB8888**, \n",
    "_____________BBBBBBBBBBBBBBBBBBBBBBB*, \n",
    "_____________*BBBBBBBBBBBBBBBBBBBBB*, \n",
    "______________*BBBBBBBBBBBBBBBBBB8, \n",
    "_______________*BBBBBBBBBBBBBBBB*, \n",
    "________________8BBBBBBBBBBBBBBB8, \n",
    "_________________8BBBBBBBBBBBBBBBo, \n",
    "__________________BBBBBBBBBBBBBBB8, \n",
    "__________________BBBBBBBBBBBBBBBB, \n",
    "__________________8BBBBBBBBBBBBBBB8, \n",
    "__________________*BBBBBBBBBBBBBBBB, \n",
    "__________________8BBBBBBBBBBBBBBBB8, \n",
    "_________________oBBBBBBBBBBBBBBBBBB, \n",
    "________________oBBBBBBBBBBBBBBBBBBB, \n",
    "________________BBBBBBBBBBBBBBBBBBBB, \n",
    "_______________8BBBBBBBBBBBBBBBBBBB8, \n",
    "______________oBBBBBBBBB88BBBBBBBBB8, \n",
    "______________8BBBBBBBBB*8BBBBBBBBB*, \n",
    "______________BBBBBBBBB*_BBBBBBBBB8, \n",
    "______________BBBBBBBB8_oBBBBBBBBB*, \n",
    "______________8BBBBBBB__oBBBBBBBB*, \n",
    "______________BBBBBBB*__8BBBBBBB*, \n",
    "_____________8BBBBBB*___BBBBBBB*, \n",
    "____________8BBBBBB8___oBBBBBB8, \n",
    "___________8BBBBBB8____8BBBBBB*, \n",
    "__________oBBBBBB8____BBBBBBB8, \n",
    "__________BBBBBBB8___BBBBBBBB*, \n",
    "_________oBBBBBBB8___BBBBBBBB, \n",
    "_________8BBBBBB8____BBBBBBB*, \n",
    "_________BBBBBB*_____8BBBBB*, \n",
    "________oBBBB8_______BBBBB*, \n",
    "________oBBB8________BBBB*, \n",
    "______8BBBB*_______*BBBBBBBB8o, \n",
    "______BBBBB*____________*88BBBo\n",
    "\n",
    "--->"
   ]
  },
  {
   "cell_type": "markdown",
   "id": "85508c53",
   "metadata": {},
   "source": [
    "Credit note: Written by Damanic Luck, Fall 2023. During the process of writing, formatting from EECS16A Touch Lab1 and 3D plots from EECS16B Lab was referenced.\n"
   ]
  },
  {
   "cell_type": "markdown",
   "id": "b96207c2",
   "metadata": {},
   "source": [
    "# Table of Contents\n",
    "\n",
    "### Least Squares\n",
    "* [Least Squares Introduction](#lst_sq_instruct)\n",
    "* [Least Squares Motivation and Geometric Derivation](#lst_sq_motivation)\n",
    "\n",
    "### SVD (Singular Value Decomposition)\n",
    "* [SVD Introduction](#svd_instruct)\n",
    "\n",
    "### PCA (Principal Component Analysis)\n",
    "* [PCA Introduction](#pca_instruct)\n",
    "\n"
   ]
  },
  {
   "cell_type": "code",
   "execution_count": 3,
   "id": "223c443a",
   "metadata": {},
   "outputs": [],
   "source": [
    "# Run this block before you start this walkthrough, if you see code blocks accompanying a text block explaining, you should just assume that you have to run it\n",
    "\n",
    "import matplotlib as plt"
   ]
  },
  {
   "cell_type": "markdown",
   "id": "8a0b245f",
   "metadata": {},
   "source": [
    "<a id = 'lst_sq_instruct'></a>\n",
    "## Least Squares Introduction\n",
    "\n",
    "<a id = 'lst_sq_motivation'></a>\n",
    "### Motivation\n",
    "Why should we learn about least squares? Let's say in a lab setting you are trying to analyze data and form some equation that can model and predict future behavior of your system."
   ]
  },
  {
   "cell_type": "markdown",
   "id": "83279a72",
   "metadata": {},
   "source": [
    "In this walkthrough, we'll be going over the geometric derivation of least squares. Week n of Fall 2023 features a least squares question walking you through how to derive it via the *algebraic* method."
   ]
  },
  {
   "cell_type": "code",
   "execution_count": null,
   "id": "43a433b8",
   "metadata": {},
   "outputs": [],
   "source": []
  },
  {
   "cell_type": "markdown",
   "id": "831cba5a",
   "metadata": {},
   "source": [
    "<a id = 'svd_instruct'></a>\n",
    "## SVD Introduction\n",
    "\n",
    "What is SVD anyways?? "
   ]
  },
  {
   "cell_type": "code",
   "execution_count": null,
   "id": "10db4a8b",
   "metadata": {},
   "outputs": [],
   "source": []
  },
  {
   "cell_type": "markdown",
   "id": "8b4426f8",
   "metadata": {},
   "source": [
    "<a id = 'pca_instruct'></a>\n",
    "## PCA Introduction\n"
   ]
  },
  {
   "cell_type": "code",
   "execution_count": null,
   "id": "008e89bb",
   "metadata": {},
   "outputs": [],
   "source": []
  }
 ],
 "metadata": {
  "kernelspec": {
   "display_name": "Python 3 (ipykernel)",
   "language": "python",
   "name": "python3"
  },
  "language_info": {
   "codemirror_mode": {
    "name": "ipython",
    "version": 3
   },
   "file_extension": ".py",
   "mimetype": "text/x-python",
   "name": "python",
   "nbconvert_exporter": "python",
   "pygments_lexer": "ipython3",
   "version": "3.10.5"
  },
  "vscode": {
   "interpreter": {
    "hash": "aee8b7b246df8f9039afb4144a1f6fd8d2ca17a180786b69acc140d282b71a49"
   }
  }
 },
 "nbformat": 4,
 "nbformat_minor": 5
}
