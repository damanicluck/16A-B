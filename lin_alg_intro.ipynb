{
 "cells": [
  {
   "attachments": {},
   "cell_type": "markdown",
   "id": "0a751c4d",
   "metadata": {},
   "source": [
    "# Linear Algebra Intro\n",
    "\n",
    "### CSM EECS 16A/16B: Designing Information Devices and Systems I/II, Fall 2023\n",
    "\n",
    "# Table of Contents\n",
    "\n",
    "idk how to make lma\n",
    "\n",
    "## Foreword\n",
    "\n",
    "Hi! I'm Alex. Currently a lab assistant for EECS 16A. I'll be helping write this linear algebra introduction needed to understand the concepts described in this difficult but worthwile series of courses. Hope that I can make these classes seem a little bit less scary! Without further ado, let's get started!\n",
    "\n",
    "## What is linear algebra anyways?\n",
    "\n",
    "\"Mathematics is the art of reducing any problem to linear algebra\" - William Stein. \n",
    "Linear algebra is quite literally the study of vectors and their transformations. Why do we learn it in this course? It is one of the most important tools needed to effectively model real world processes from a numerical perspective. After all, this series literally has \"designing information\" in its name. Linear algebra gives us a strong mathematical base to give us the \"information\" to \"design\" (sorry not sorry). \n",
    "\n",
    "### \"Linear\"\n",
    "\n",
    "What makes an equation linear?\n",
    "\n",
    "### the Vector\n",
    "\n",
    "Not a minions reference, but a series of numbers\n",
    "\n",
    "### the Matrix (no pun intended)\n",
    "\n",
    "Combine a buncha vectors and you get the matrix\n",
    "\n",
    "### put it all together\n",
    "\n",
    "How do we put a system of linear equations into \"augmented matrix\" form?\n",
    "\n",
    "### Gauuuuuuuusssian eliminationnn!\n",
    "\n",
    "How do we solve this?\n",
    "\n",
    "### Matrix Multiplication\n",
    "\n",
    "What are we trying to solve anyway? Ax = b?\n",
    "\n",
    "### (In)dependence day\n",
    "\n",
    "### Span\n",
    "\n",
    "### Inverses\n",
    "\n",
    "### Subspaces and Vector spaces\n",
    "\n",
    "Axioms!\n",
    "\n",
    "### Eigen!\n",
    "\n",
    "### Orthogonality and Orthonormality\n",
    "\n",
    "### Inner Products\n",
    "\n",
    "### Change of basis\n",
    "\n",
    "## Applications\n",
    "\n",
    "So why does all of this matter? Well, with the linear algebra tools we have now, we can explore many other applications that we see in this series, from data analysis to control. Stay tuned!\n"
   ]
  },
  {
   "cell_type": "markdown",
   "id": "85508c53",
   "metadata": {},
   "source": [
    "Credit note: Written by Damanic Luck and Alex Um, Fall 2023. During the process of writing, formatting from EECS16A Touch Lab1 and 3D plots from EECS16B Lab was referenced.\n"
   ]
  }
 ],
 "metadata": {
  "kernelspec": {
   "display_name": "Python 3",
   "language": "python",
   "name": "python3"
  },
  "language_info": {
   "name": "python",
   "version": "3.9.6 (default, Aug 11 2023, 19:44:49) \n[Clang 15.0.0 (clang-1500.0.40.1)]"
  },
  "orig_nbformat": 4,
  "vscode": {
   "interpreter": {
    "hash": "31f2aee4e71d21fbe5cf8b01ff0e069b9275f58929596ceb00d14d90e3e16cd6"
   }
  }
 },
 "nbformat": 4,
 "nbformat_minor": 2
}
